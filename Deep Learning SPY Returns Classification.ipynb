{
 "cells": [
  {
   "cell_type": "code",
   "execution_count": 88,
   "id": "fec1ec32",
   "metadata": {},
   "outputs": [],
   "source": [
    "import pandas as pd\n",
    "import numpy as np\n",
    "import matplotlib.pyplot as plt\n",
    "import seaborn as sns\n",
    "%matplotlib inline\n",
    "import scipy.stats as st\n",
    "from sklearn.model_selection import train_test_split\n",
    "from sklearn.preprocessing import MinMaxScaler\n",
    "from tensorflow.keras.models import Sequential\n",
    "from tensorflow.keras.layers import Dense, Dropout\n",
    "from tensorflow.keras.callbacks import EarlyStopping\n",
    "from sklearn.metrics import classification_report, confusion_matrix"
   ]
  },
  {
   "cell_type": "code",
   "execution_count": 89,
   "id": "9ada5cb0",
   "metadata": {},
   "outputs": [],
   "source": [
    "df = pd.read_csv(\"Close_Return_SPY.csv\")"
   ]
  },
  {
   "cell_type": "code",
   "execution_count": 90,
   "id": "2191e011",
   "metadata": {},
   "outputs": [],
   "source": [
    "# Dropping Continuous Label and adding Month of the year feature\n",
    "df = df.drop(\"OUTPUT\", axis = 1)\n",
    "df[\"month\"]=pd.to_datetime(df[\"Date\"]).apply(lambda date:date.month)\n",
    "df = df.set_index(\"Date\")"
   ]
  },
  {
   "cell_type": "code",
   "execution_count": 91,
   "id": "f43774d0",
   "metadata": {},
   "outputs": [
    {
     "data": {
      "text/plain": [
       "0"
      ]
     },
     "execution_count": 91,
     "metadata": {},
     "output_type": "execute_result"
    }
   ],
   "source": [
    "# checking for nulls\n",
    "df.isnull().sum().sum()"
   ]
  },
  {
   "cell_type": "code",
   "execution_count": 92,
   "id": "ba2cdfd6",
   "metadata": {},
   "outputs": [
    {
     "data": {
      "text/html": [
       "<div>\n",
       "<style scoped>\n",
       "    .dataframe tbody tr th:only-of-type {\n",
       "        vertical-align: middle;\n",
       "    }\n",
       "\n",
       "    .dataframe tbody tr th {\n",
       "        vertical-align: top;\n",
       "    }\n",
       "\n",
       "    .dataframe thead th {\n",
       "        text-align: right;\n",
       "    }\n",
       "</style>\n",
       "<table border=\"1\" class=\"dataframe\">\n",
       "  <thead>\n",
       "    <tr style=\"text-align: right;\">\n",
       "      <th></th>\n",
       "      <th>count</th>\n",
       "      <th>mean</th>\n",
       "      <th>std</th>\n",
       "      <th>min</th>\n",
       "      <th>25%</th>\n",
       "      <th>50%</th>\n",
       "      <th>75%</th>\n",
       "      <th>max</th>\n",
       "    </tr>\n",
       "  </thead>\n",
       "  <tbody>\n",
       "    <tr>\n",
       "      <th>AUDUSD</th>\n",
       "      <td>1157.0</td>\n",
       "      <td>0.775025</td>\n",
       "      <td>0.142401</td>\n",
       "      <td>0.484700</td>\n",
       "      <td>0.701800</td>\n",
       "      <td>0.757700</td>\n",
       "      <td>0.878200</td>\n",
       "      <td>1.099500</td>\n",
       "    </tr>\n",
       "    <tr>\n",
       "      <th>EURODOLLAR</th>\n",
       "      <td>1157.0</td>\n",
       "      <td>98.148157</td>\n",
       "      <td>1.834885</td>\n",
       "      <td>93.060000</td>\n",
       "      <td>97.350000</td>\n",
       "      <td>98.800000</td>\n",
       "      <td>99.690000</td>\n",
       "      <td>99.882000</td>\n",
       "    </tr>\n",
       "    <tr>\n",
       "      <th>EURUSD</th>\n",
       "      <td>1157.0</td>\n",
       "      <td>1.205647</td>\n",
       "      <td>0.158457</td>\n",
       "      <td>0.838600</td>\n",
       "      <td>1.114400</td>\n",
       "      <td>1.206700</td>\n",
       "      <td>1.322200</td>\n",
       "      <td>1.594200</td>\n",
       "    </tr>\n",
       "    <tr>\n",
       "      <th>CRUDE</th>\n",
       "      <td>1157.0</td>\n",
       "      <td>62.058401</td>\n",
       "      <td>25.819557</td>\n",
       "      <td>16.940000</td>\n",
       "      <td>41.250000</td>\n",
       "      <td>59.240000</td>\n",
       "      <td>81.430000</td>\n",
       "      <td>145.290000</td>\n",
       "    </tr>\n",
       "    <tr>\n",
       "      <th>COPPER</th>\n",
       "      <td>1157.0</td>\n",
       "      <td>2.592371</td>\n",
       "      <td>1.118287</td>\n",
       "      <td>0.612000</td>\n",
       "      <td>1.625000</td>\n",
       "      <td>2.833000</td>\n",
       "      <td>3.378000</td>\n",
       "      <td>4.937500</td>\n",
       "    </tr>\n",
       "    <tr>\n",
       "      <th>...</th>\n",
       "      <td>...</td>\n",
       "      <td>...</td>\n",
       "      <td>...</td>\n",
       "      <td>...</td>\n",
       "      <td>...</td>\n",
       "      <td>...</td>\n",
       "      <td>...</td>\n",
       "      <td>...</td>\n",
       "    </tr>\n",
       "    <tr>\n",
       "      <th>BAA_5W-10WR</th>\n",
       "      <td>1157.0</td>\n",
       "      <td>0.001623</td>\n",
       "      <td>0.046929</td>\n",
       "      <td>-0.298374</td>\n",
       "      <td>-0.019048</td>\n",
       "      <td>0.006086</td>\n",
       "      <td>0.025769</td>\n",
       "      <td>0.209045</td>\n",
       "    </tr>\n",
       "    <tr>\n",
       "      <th>AAA_5W-10WR</th>\n",
       "      <td>1157.0</td>\n",
       "      <td>0.002156</td>\n",
       "      <td>0.053034</td>\n",
       "      <td>-0.188260</td>\n",
       "      <td>-0.022786</td>\n",
       "      <td>0.005374</td>\n",
       "      <td>0.030257</td>\n",
       "      <td>0.384521</td>\n",
       "    </tr>\n",
       "    <tr>\n",
       "      <th>SPY_5W-10WR</th>\n",
       "      <td>1157.0</td>\n",
       "      <td>-0.006072</td>\n",
       "      <td>0.052540</td>\n",
       "      <td>-0.254620</td>\n",
       "      <td>-0.034745</td>\n",
       "      <td>-0.012899</td>\n",
       "      <td>0.016840</td>\n",
       "      <td>0.398576</td>\n",
       "    </tr>\n",
       "    <tr>\n",
       "      <th>1_up_0_down</th>\n",
       "      <td>1157.0</td>\n",
       "      <td>0.558341</td>\n",
       "      <td>0.496799</td>\n",
       "      <td>0.000000</td>\n",
       "      <td>0.000000</td>\n",
       "      <td>1.000000</td>\n",
       "      <td>1.000000</td>\n",
       "      <td>1.000000</td>\n",
       "    </tr>\n",
       "    <tr>\n",
       "      <th>month</th>\n",
       "      <td>1157.0</td>\n",
       "      <td>6.503025</td>\n",
       "      <td>3.443217</td>\n",
       "      <td>1.000000</td>\n",
       "      <td>4.000000</td>\n",
       "      <td>6.000000</td>\n",
       "      <td>9.000000</td>\n",
       "      <td>12.000000</td>\n",
       "    </tr>\n",
       "  </tbody>\n",
       "</table>\n",
       "<p>233 rows × 8 columns</p>\n",
       "</div>"
      ],
      "text/plain": [
       "              count       mean        std        min        25%        50%  \\\n",
       "AUDUSD       1157.0   0.775025   0.142401   0.484700   0.701800   0.757700   \n",
       "EURODOLLAR   1157.0  98.148157   1.834885  93.060000  97.350000  98.800000   \n",
       "EURUSD       1157.0   1.205647   0.158457   0.838600   1.114400   1.206700   \n",
       "CRUDE        1157.0  62.058401  25.819557  16.940000  41.250000  59.240000   \n",
       "COPPER       1157.0   2.592371   1.118287   0.612000   1.625000   2.833000   \n",
       "...             ...        ...        ...        ...        ...        ...   \n",
       "BAA_5W-10WR  1157.0   0.001623   0.046929  -0.298374  -0.019048   0.006086   \n",
       "AAA_5W-10WR  1157.0   0.002156   0.053034  -0.188260  -0.022786   0.005374   \n",
       "SPY_5W-10WR  1157.0  -0.006072   0.052540  -0.254620  -0.034745  -0.012899   \n",
       "1_up_0_down  1157.0   0.558341   0.496799   0.000000   0.000000   1.000000   \n",
       "month        1157.0   6.503025   3.443217   1.000000   4.000000   6.000000   \n",
       "\n",
       "                   75%         max  \n",
       "AUDUSD        0.878200    1.099500  \n",
       "EURODOLLAR   99.690000   99.882000  \n",
       "EURUSD        1.322200    1.594200  \n",
       "CRUDE        81.430000  145.290000  \n",
       "COPPER        3.378000    4.937500  \n",
       "...                ...         ...  \n",
       "BAA_5W-10WR   0.025769    0.209045  \n",
       "AAA_5W-10WR   0.030257    0.384521  \n",
       "SPY_5W-10WR   0.016840    0.398576  \n",
       "1_up_0_down   1.000000    1.000000  \n",
       "month         9.000000   12.000000  \n",
       "\n",
       "[233 rows x 8 columns]"
      ]
     },
     "execution_count": 92,
     "metadata": {},
     "output_type": "execute_result"
    }
   ],
   "source": [
    "df.describe().transpose()"
   ]
  },
  {
   "cell_type": "code",
   "execution_count": 93,
   "id": "77b07d41",
   "metadata": {},
   "outputs": [
    {
     "data": {
      "text/html": [
       "<div>\n",
       "<style scoped>\n",
       "    .dataframe tbody tr th:only-of-type {\n",
       "        vertical-align: middle;\n",
       "    }\n",
       "\n",
       "    .dataframe tbody tr th {\n",
       "        vertical-align: top;\n",
       "    }\n",
       "\n",
       "    .dataframe thead th {\n",
       "        text-align: right;\n",
       "    }\n",
       "</style>\n",
       "<table border=\"1\" class=\"dataframe\">\n",
       "  <thead>\n",
       "    <tr style=\"text-align: right;\">\n",
       "      <th></th>\n",
       "      <th>AUDUSD</th>\n",
       "      <th>EURODOLLAR</th>\n",
       "      <th>EURUSD</th>\n",
       "      <th>CRUDE</th>\n",
       "      <th>COPPER</th>\n",
       "      <th>VIX</th>\n",
       "      <th>GOLD</th>\n",
       "      <th>EWJ</th>\n",
       "      <th>EWH</th>\n",
       "      <th>EWG</th>\n",
       "      <th>...</th>\n",
       "      <th>USDCHF_5W-10WR</th>\n",
       "      <th>US10Y_5W-10WR</th>\n",
       "      <th>SILVER_5W-10WR</th>\n",
       "      <th>MOR30Y_5W-10WR</th>\n",
       "      <th>MOR15Y_5W-10WR</th>\n",
       "      <th>BAA_5W-10WR</th>\n",
       "      <th>AAA_5W-10WR</th>\n",
       "      <th>SPY_5W-10WR</th>\n",
       "      <th>1_up_0_down</th>\n",
       "      <th>month</th>\n",
       "    </tr>\n",
       "    <tr>\n",
       "      <th>Date</th>\n",
       "      <th></th>\n",
       "      <th></th>\n",
       "      <th></th>\n",
       "      <th></th>\n",
       "      <th></th>\n",
       "      <th></th>\n",
       "      <th></th>\n",
       "      <th></th>\n",
       "      <th></th>\n",
       "      <th></th>\n",
       "      <th></th>\n",
       "      <th></th>\n",
       "      <th></th>\n",
       "      <th></th>\n",
       "      <th></th>\n",
       "      <th></th>\n",
       "      <th></th>\n",
       "      <th></th>\n",
       "      <th></th>\n",
       "      <th></th>\n",
       "      <th></th>\n",
       "    </tr>\n",
       "  </thead>\n",
       "  <tbody>\n",
       "    <tr>\n",
       "      <th>2000-03-17</th>\n",
       "      <td>0.6068</td>\n",
       "      <td>93.63</td>\n",
       "      <td>0.9724</td>\n",
       "      <td>30.91</td>\n",
       "      <td>0.805</td>\n",
       "      <td>22.37</td>\n",
       "      <td>284.1</td>\n",
       "      <td>60.00</td>\n",
       "      <td>13.56</td>\n",
       "      <td>28.00</td>\n",
       "      <td>...</td>\n",
       "      <td>-0.040080</td>\n",
       "      <td>-0.011844</td>\n",
       "      <td>-0.033749</td>\n",
       "      <td>-0.025397</td>\n",
       "      <td>-0.029268</td>\n",
       "      <td>-0.006170</td>\n",
       "      <td>0.005215</td>\n",
       "      <td>0.051321</td>\n",
       "      <td>1</td>\n",
       "      <td>3</td>\n",
       "    </tr>\n",
       "    <tr>\n",
       "      <th>2000-03-24</th>\n",
       "      <td>0.6083</td>\n",
       "      <td>93.64</td>\n",
       "      <td>0.9771</td>\n",
       "      <td>28.02</td>\n",
       "      <td>0.804</td>\n",
       "      <td>23.31</td>\n",
       "      <td>284.7</td>\n",
       "      <td>59.75</td>\n",
       "      <td>13.81</td>\n",
       "      <td>28.44</td>\n",
       "      <td>...</td>\n",
       "      <td>-0.021629</td>\n",
       "      <td>0.029271</td>\n",
       "      <td>-0.030575</td>\n",
       "      <td>-0.024012</td>\n",
       "      <td>-0.027712</td>\n",
       "      <td>0.005967</td>\n",
       "      <td>0.012671</td>\n",
       "      <td>0.090036</td>\n",
       "      <td>0</td>\n",
       "      <td>3</td>\n",
       "    </tr>\n",
       "    <tr>\n",
       "      <th>2000-03-31</th>\n",
       "      <td>0.6076</td>\n",
       "      <td>93.66</td>\n",
       "      <td>0.9562</td>\n",
       "      <td>26.90</td>\n",
       "      <td>0.800</td>\n",
       "      <td>24.11</td>\n",
       "      <td>278.4</td>\n",
       "      <td>66.00</td>\n",
       "      <td>13.69</td>\n",
       "      <td>27.00</td>\n",
       "      <td>...</td>\n",
       "      <td>-0.034187</td>\n",
       "      <td>0.060839</td>\n",
       "      <td>0.035505</td>\n",
       "      <td>-0.005995</td>\n",
       "      <td>-0.007556</td>\n",
       "      <td>0.017880</td>\n",
       "      <td>0.026511</td>\n",
       "      <td>0.086754</td>\n",
       "      <td>1</td>\n",
       "      <td>3</td>\n",
       "    </tr>\n",
       "    <tr>\n",
       "      <th>2000-04-07</th>\n",
       "      <td>0.5985</td>\n",
       "      <td>93.69</td>\n",
       "      <td>0.9549</td>\n",
       "      <td>25.04</td>\n",
       "      <td>0.765</td>\n",
       "      <td>24.39</td>\n",
       "      <td>279.8</td>\n",
       "      <td>63.75</td>\n",
       "      <td>13.50</td>\n",
       "      <td>26.56</td>\n",
       "      <td>...</td>\n",
       "      <td>-0.014284</td>\n",
       "      <td>0.038397</td>\n",
       "      <td>0.039232</td>\n",
       "      <td>-0.002404</td>\n",
       "      <td>0.000000</td>\n",
       "      <td>-0.007194</td>\n",
       "      <td>0.002544</td>\n",
       "      <td>-0.041384</td>\n",
       "      <td>0</td>\n",
       "      <td>4</td>\n",
       "    </tr>\n",
       "    <tr>\n",
       "      <th>2000-04-14</th>\n",
       "      <td>0.5976</td>\n",
       "      <td>93.71</td>\n",
       "      <td>0.9623</td>\n",
       "      <td>25.57</td>\n",
       "      <td>0.751</td>\n",
       "      <td>33.49</td>\n",
       "      <td>282.6</td>\n",
       "      <td>60.50</td>\n",
       "      <td>12.06</td>\n",
       "      <td>25.06</td>\n",
       "      <td>...</td>\n",
       "      <td>-0.022034</td>\n",
       "      <td>0.023924</td>\n",
       "      <td>0.088759</td>\n",
       "      <td>0.002392</td>\n",
       "      <td>0.005063</td>\n",
       "      <td>-0.019395</td>\n",
       "      <td>-0.010309</td>\n",
       "      <td>0.016813</td>\n",
       "      <td>1</td>\n",
       "      <td>4</td>\n",
       "    </tr>\n",
       "  </tbody>\n",
       "</table>\n",
       "<p>5 rows × 233 columns</p>\n",
       "</div>"
      ],
      "text/plain": [
       "            AUDUSD  EURODOLLAR  EURUSD  CRUDE  COPPER    VIX   GOLD    EWJ  \\\n",
       "Date                                                                         \n",
       "2000-03-17  0.6068       93.63  0.9724  30.91   0.805  22.37  284.1  60.00   \n",
       "2000-03-24  0.6083       93.64  0.9771  28.02   0.804  23.31  284.7  59.75   \n",
       "2000-03-31  0.6076       93.66  0.9562  26.90   0.800  24.11  278.4  66.00   \n",
       "2000-04-07  0.5985       93.69  0.9549  25.04   0.765  24.39  279.8  63.75   \n",
       "2000-04-14  0.5976       93.71  0.9623  25.57   0.751  33.49  282.6  60.50   \n",
       "\n",
       "              EWH    EWG  ...  USDCHF_5W-10WR  US10Y_5W-10WR  SILVER_5W-10WR  \\\n",
       "Date                      ...                                                  \n",
       "2000-03-17  13.56  28.00  ...       -0.040080      -0.011844       -0.033749   \n",
       "2000-03-24  13.81  28.44  ...       -0.021629       0.029271       -0.030575   \n",
       "2000-03-31  13.69  27.00  ...       -0.034187       0.060839        0.035505   \n",
       "2000-04-07  13.50  26.56  ...       -0.014284       0.038397        0.039232   \n",
       "2000-04-14  12.06  25.06  ...       -0.022034       0.023924        0.088759   \n",
       "\n",
       "            MOR30Y_5W-10WR  MOR15Y_5W-10WR  BAA_5W-10WR  AAA_5W-10WR  \\\n",
       "Date                                                                   \n",
       "2000-03-17       -0.025397       -0.029268    -0.006170     0.005215   \n",
       "2000-03-24       -0.024012       -0.027712     0.005967     0.012671   \n",
       "2000-03-31       -0.005995       -0.007556     0.017880     0.026511   \n",
       "2000-04-07       -0.002404        0.000000    -0.007194     0.002544   \n",
       "2000-04-14        0.002392        0.005063    -0.019395    -0.010309   \n",
       "\n",
       "            SPY_5W-10WR  1_up_0_down  month  \n",
       "Date                                         \n",
       "2000-03-17     0.051321            1      3  \n",
       "2000-03-24     0.090036            0      3  \n",
       "2000-03-31     0.086754            1      3  \n",
       "2000-04-07    -0.041384            0      4  \n",
       "2000-04-14     0.016813            1      4  \n",
       "\n",
       "[5 rows x 233 columns]"
      ]
     },
     "execution_count": 93,
     "metadata": {},
     "output_type": "execute_result"
    }
   ],
   "source": [
    "df.head()"
   ]
  },
  {
   "cell_type": "code",
   "execution_count": 94,
   "id": "07c9acb6",
   "metadata": {},
   "outputs": [
    {
     "data": {
      "text/plain": [
       "<AxesSubplot:xlabel='1_up_0_down', ylabel='count'>"
      ]
     },
     "execution_count": 94,
     "metadata": {},
     "output_type": "execute_result"
    },
    {
     "data": {
      "image/png": "[encoded data removed]",
      "text/plain": [
       "<Figure size 432x288 with 1 Axes>"
      ]
     },
     "metadata": {
      "needs_background": "light"
     },
     "output_type": "display_data"
    }
   ],
   "source": [
    "# distribution of the output label... looks quite balanced\n",
    "sns.countplot(x = df[\"1_up_0_down\"])"
   ]
  },
  {
   "cell_type": "code",
   "execution_count": 95,
   "id": "bffe4c37",
   "metadata": {
    "scrolled": true
   },
   "outputs": [
    {
     "data": {
      "text/plain": [
       "1_up_0_down    1.000000\n",
       "MOR30Y         0.098525\n",
       "MOR15Y         0.097165\n",
       "BAA            0.094654\n",
       "AAA            0.092801\n",
       "Name: 1_up_0_down, dtype: float64"
      ]
     },
     "execution_count": 95,
     "metadata": {},
     "output_type": "execute_result"
    }
   ],
   "source": [
    "# abs correlation of top correlated to output\n",
    "abs(df.corr()[\"1_up_0_down\"]).nlargest(5)"
   ]
  },
  {
   "cell_type": "code",
   "execution_count": 96,
   "id": "fe8cde51",
   "metadata": {},
   "outputs": [
    {
     "data": {
      "text/plain": [
       "Index(['1_up_0_down', 'MOR30Y', 'MOR15Y', 'BAA', 'AAA'], dtype='object')"
      ]
     },
     "execution_count": 96,
     "metadata": {},
     "output_type": "execute_result"
    }
   ],
   "source": [
    "# top correlated to output\n",
    "abs(df.corr()[\"1_up_0_down\"]).nlargest(5).index"
   ]
  },
  {
   "cell_type": "code",
   "execution_count": 97,
   "id": "ef86fab6",
   "metadata": {
    "scrolled": true
   },
   "outputs": [
    {
     "data": {
      "text/plain": [
       "<AxesSubplot:>"
      ]
     },
     "execution_count": 97,
     "metadata": {},
     "output_type": "execute_result"
    },
    {
     "data": {
      "image/png": "[encoded data removed]",
      "text/plain": [
       "<Figure size 432x288 with 1 Axes>"
      ]
     },
     "metadata": {
      "needs_background": "light"
     },
     "output_type": "display_data"
    }
   ],
   "source": [
    "df.corr()[\"1_up_0_down\"][abs(df.corr()[\"1_up_0_down\"]).nlargest(6).index].drop(\"1_up_0_down\").plot(kind = \"bar\")"
   ]
  },
  {
   "cell_type": "code",
   "execution_count": 147,
   "id": "881141c4",
   "metadata": {},
   "outputs": [],
   "source": [
    "# Preprocessing Data\n",
    "X = df.drop(\"1_up_0_down\",axis = 1).values\n",
    "y = df[\"1_up_0_down\"].values\n",
    "X_train, X_test, y_train, y_test = train_test_split(X, y, test_size=0.25)\n",
    "scaler = MinMaxScaler()\n",
    "X_train = scaler.fit_transform(X_train)\n",
    "X_test = scaler.transform(X_test)\n",
    "\n",
    "# Creating Model: DLM1\n",
    "model = Sequential()\n",
    "\n",
    "model.add(Dense(116,activation = \"relu\"))\n",
    "model.add(Dropout(.2))\n",
    "model.add(Dense(1,activation = \"sigmoid\"))\n",
    "model.compile(optimizer = \"adam\", loss = \"binary_crossentropy\", )\n",
    "early_stop = EarlyStopping(monitor = \"val_loss\", mode = \"min\", verbose = 1, patience = 50)"
   ]
  },
  {
   "cell_type": "code",
   "execution_count": 148,
   "id": "1aa1e2da",
   "metadata": {},
   "outputs": [
    {
     "name": "stdout",
     "output_type": "stream",
     "text": [
      "Epoch 1/600\n",
      "11/11 [==============================] - 1s 15ms/step - loss: 0.7390 - val_loss: 0.7132\n",
      "Epoch 2/600\n",
      "11/11 [==============================] - 0s 6ms/step - loss: 0.7048 - val_loss: 0.6856\n",
      "Epoch 3/600\n",
      "11/11 [==============================] - 0s 6ms/step - loss: 0.6890 - val_loss: 0.6859\n",
      "Epoch 4/600\n",
      "11/11 [==============================] - 0s 6ms/step - loss: 0.7023 - val_loss: 0.7148\n",
      "Epoch 5/600\n",
      "11/11 [==============================] - 0s 6ms/step - loss: 0.6919 - val_loss: 0.6913\n",
      "Epoch 6/600\n",
      "11/11 [==============================] - 0s 6ms/step - loss: 0.6803 - val_loss: 0.6922\n",
      "Epoch 7/600\n",
      "11/11 [==============================] - 0s 6ms/step - loss: 0.6837 - val_loss: 0.6914\n",
      "Epoch 8/600\n",
      "11/11 [==============================] - 0s 6ms/step - loss: 0.6850 - val_loss: 0.6980\n",
      "Epoch 9/600\n",
      "11/11 [==============================] - 0s 6ms/step - loss: 0.6853 - val_loss: 0.6958\n",
      "Epoch 10/600\n",
      "11/11 [==============================] - 0s 6ms/step - loss: 0.6816 - val_loss: 0.6948\n",
      "Epoch 11/600\n",
      "11/11 [==============================] - 0s 6ms/step - loss: 0.6855 - val_loss: 0.6931\n",
      "Epoch 12/600\n",
      "11/11 [==============================] - 0s 6ms/step - loss: 0.6867 - val_loss: 0.6898\n",
      "Epoch 13/600\n",
      "11/11 [==============================] - 0s 6ms/step - loss: 0.6794 - val_loss: 0.6911\n",
      "Epoch 14/600\n",
      "11/11 [==============================] - 0s 6ms/step - loss: 0.6802 - val_loss: 0.6916\n",
      "Epoch 15/600\n",
      "11/11 [==============================] - 0s 6ms/step - loss: 0.6750 - val_loss: 0.6945\n",
      "Epoch 16/600\n",
      "11/11 [==============================] - 0s 6ms/step - loss: 0.6784 - val_loss: 0.6943\n",
      "Epoch 17/600\n",
      "11/11 [==============================] - 0s 5ms/step - loss: 0.6783 - val_loss: 0.6946\n",
      "Epoch 18/600\n",
      "11/11 [==============================] - 0s 9ms/step - loss: 0.6708 - val_loss: 0.6950\n",
      "Epoch 19/600\n",
      "11/11 [==============================] - 0s 10ms/step - loss: 0.6756 - val_loss: 0.7020\n",
      "Epoch 20/600\n",
      "11/11 [==============================] - 0s 9ms/step - loss: 0.6776 - val_loss: 0.7016\n",
      "Epoch 21/600\n",
      "11/11 [==============================] - 0s 7ms/step - loss: 0.6786 - val_loss: 0.7012\n",
      "Epoch 22/600\n",
      "11/11 [==============================] - 0s 7ms/step - loss: 0.6772 - val_loss: 0.7040\n",
      "Epoch 23/600\n",
      "11/11 [==============================] - 0s 7ms/step - loss: 0.6728 - val_loss: 0.6955\n",
      "Epoch 24/600\n",
      "11/11 [==============================] - 0s 7ms/step - loss: 0.6733 - val_loss: 0.7084\n",
      "Epoch 25/600\n",
      "11/11 [==============================] - 0s 8ms/step - loss: 0.6811 - val_loss: 0.6962\n",
      "Epoch 26/600\n",
      "11/11 [==============================] - 0s 7ms/step - loss: 0.6785 - val_loss: 0.6946\n",
      "Epoch 27/600\n",
      "11/11 [==============================] - 0s 8ms/step - loss: 0.6786 - val_loss: 0.6989\n",
      "Epoch 28/600\n",
      "11/11 [==============================] - 0s 6ms/step - loss: 0.6699 - val_loss: 0.6971\n",
      "Epoch 29/600\n",
      "11/11 [==============================] - 0s 10ms/step - loss: 0.6735 - val_loss: 0.6970\n",
      "Epoch 30/600\n",
      "11/11 [==============================] - 0s 7ms/step - loss: 0.6672 - val_loss: 0.6960\n",
      "Epoch 31/600\n",
      "11/11 [==============================] - 0s 7ms/step - loss: 0.6686 - val_loss: 0.6969\n",
      "Epoch 32/600\n",
      "11/11 [==============================] - 0s 7ms/step - loss: 0.6688 - val_loss: 0.7007\n",
      "Epoch 33/600\n",
      "11/11 [==============================] - 0s 8ms/step - loss: 0.6699 - val_loss: 0.7006\n",
      "Epoch 34/600\n",
      "11/11 [==============================] - 0s 7ms/step - loss: 0.6679 - val_loss: 0.7000\n",
      "Epoch 35/600\n",
      "11/11 [==============================] - 0s 7ms/step - loss: 0.6666 - val_loss: 0.7085\n",
      "Epoch 36/600\n",
      "11/11 [==============================] - 0s 8ms/step - loss: 0.6684 - val_loss: 0.7026\n",
      "Epoch 37/600\n",
      "11/11 [==============================] - 0s 8ms/step - loss: 0.6706 - val_loss: 0.7006\n",
      "Epoch 38/600\n",
      "11/11 [==============================] - 0s 9ms/step - loss: 0.6707 - val_loss: 0.7033\n",
      "Epoch 39/600\n",
      "11/11 [==============================] - 0s 5ms/step - loss: 0.6697 - val_loss: 0.6986\n",
      "Epoch 40/600\n",
      "11/11 [==============================] - 0s 7ms/step - loss: 0.6703 - val_loss: 0.6985\n",
      "Epoch 41/600\n",
      "11/11 [==============================] - 0s 6ms/step - loss: 0.6664 - val_loss: 0.7038\n",
      "Epoch 42/600\n",
      "11/11 [==============================] - 0s 6ms/step - loss: 0.6632 - val_loss: 0.7004\n",
      "Epoch 43/600\n",
      "11/11 [==============================] - 0s 6ms/step - loss: 0.6641 - val_loss: 0.7070\n",
      "Epoch 44/600\n",
      "11/11 [==============================] - 0s 6ms/step - loss: 0.6670 - val_loss: 0.7011\n",
      "Epoch 45/600\n",
      "11/11 [==============================] - 0s 8ms/step - loss: 0.6645 - val_loss: 0.7049\n",
      "Epoch 46/600\n",
      "11/11 [==============================] - 0s 6ms/step - loss: 0.6663 - val_loss: 0.7083\n",
      "Epoch 47/600\n",
      "11/11 [==============================] - 0s 6ms/step - loss: 0.6657 - val_loss: 0.7054\n",
      "Epoch 48/600\n",
      "11/11 [==============================] - 0s 6ms/step - loss: 0.6636 - val_loss: 0.7042\n",
      "Epoch 49/600\n",
      "11/11 [==============================] - 0s 7ms/step - loss: 0.6599 - val_loss: 0.7074\n",
      "Epoch 50/600\n",
      "11/11 [==============================] - 0s 7ms/step - loss: 0.6638 - val_loss: 0.7066\n",
      "Epoch 51/600\n",
      "11/11 [==============================] - 0s 7ms/step - loss: 0.6652 - val_loss: 0.7031\n",
      "Epoch 52/600\n",
      "11/11 [==============================] - 0s 7ms/step - loss: 0.6653 - val_loss: 0.7006\n",
      "Epoch 52: early stopping\n"
     ]
    },
    {
     "data": {
      "text/plain": [
       "<keras.callbacks.History at 0x7fd46eb81190>"
      ]
     },
     "execution_count": 148,
     "metadata": {},
     "output_type": "execute_result"
    }
   ],
   "source": [
    "# Training DLM1\n",
    "model.fit(x = X_train, y = y_train, epochs = 600,validation_data = (X_test,y_test), callbacks = [early_stop], batch_size = 80)"
   ]
  },
  {
   "cell_type": "code",
   "execution_count": 149,
   "id": "dcf7a462",
   "metadata": {},
   "outputs": [
    {
     "data": {
      "text/plain": [
       "<AxesSubplot:>"
      ]
     },
     "execution_count": 149,
     "metadata": {},
     "output_type": "execute_result"
    },
    {
     "data": {
      "image/png": "[encoded data removed]",
      "text/plain": [
       "<Figure size 432x288 with 1 Axes>"
      ]
     },
     "metadata": {
      "needs_background": "light"
     },
     "output_type": "display_data"
    }
   ],
   "source": [
    "# Overfitting?\n",
    "pd.DataFrame(model.history.history).plot()"
   ]
  },
  {
   "cell_type": "code",
   "execution_count": 150,
   "id": "ea3b46c2",
   "metadata": {},
   "outputs": [
    {
     "name": "stdout",
     "output_type": "stream",
     "text": [
      "10/10 [==============================] - 0s 2ms/step\n",
      "              precision    recall  f1-score   support\n",
      "\n",
      "           0       0.48      0.42      0.45       125\n",
      "           1       0.60      0.66      0.63       165\n",
      "\n",
      "    accuracy                           0.56       290\n",
      "   macro avg       0.54      0.54      0.54       290\n",
      "weighted avg       0.55      0.56      0.55       290\n",
      "\n",
      "[[ 52  73]\n",
      " [ 56 109]]\n"
     ]
    }
   ],
   "source": [
    "# Evaluating DLM1\n",
    "predictions = (model.predict(X_test) > 0.5).astype(\"int32\")\n",
    "print(classification_report(y_test, predictions))\n",
    "print(confusion_matrix(y_test, predictions))"
   ]
  },
  {
   "cell_type": "code",
   "execution_count": 134,
   "id": "0e537f21",
   "metadata": {},
   "outputs": [
    {
     "name": "stdout",
     "output_type": "stream",
     "text": [
      "              precision    recall  f1-score   support\n",
      "\n",
      "           0       0.45      0.46      0.45       126\n",
      "           1       0.58      0.57      0.57       164\n",
      "\n",
      "    accuracy                           0.52       290\n",
      "   macro avg       0.51      0.51      0.51       290\n",
      "weighted avg       0.52      0.52      0.52       290\n",
      "\n",
      "[[58 68]\n",
      " [71 93]]\n"
     ]
    }
   ],
   "source": [
    "# KNN1\n",
    "from sklearn.neighbors import KNeighborsClassifier\n",
    "X = df.drop(\"1_up_0_down\",axis = 1).values\n",
    "y = df[\"1_up_0_down\"].values\n",
    "X_train, X_test, y_train, y_test = train_test_split(X, y, test_size=0.25)\n",
    "scaler = MinMaxScaler()\n",
    "X_train = scaler.fit_transform(X_train)\n",
    "X_test = scaler.transform(X_test)\n",
    "knn = KNeighborsClassifier(n_neighbors = 1)\n",
    "knn.fit(X_train,y_train)\n",
    "p1 = knn.predict(X_test)\n",
    "print(classification_report(y_test,p1))\n",
    "print(confusion_matrix(y_test,p1))"
   ]
  },
  {
   "cell_type": "code",
   "execution_count": 122,
   "id": "d34559f2",
   "metadata": {},
   "outputs": [
    {
     "data": {
      "text/plain": [
       "Text(0, 0.5, 'Error Rate')"
      ]
     },
     "execution_count": 122,
     "metadata": {},
     "output_type": "execute_result"
    },
    {
     "data": {
      "image/png": "[encoded data removed]",
      "text/plain": [
       "<Figure size 720x432 with 1 Axes>"
      ]
     },
     "metadata": {
      "needs_background": "light"
     },
     "output_type": "display_data"
    }
   ],
   "source": [
    "error_rate = []\n",
    "for i in range (1,100):\n",
    "    knn = KNeighborsClassifier(n_neighbors = i)\n",
    "    knn.fit(X_train,y_train)\n",
    "    p1 = knn.predict(X_test)\n",
    "    error_rate.append(np.mean(p1 != y_test))\n",
    "plt.figure(figsize = (10,6))\n",
    "plt.plot(range(1,100),error_rate, marker = \"o\", markerfacecolor= \"red\", markersize = 10)\n",
    "plt.title(\"K and Error Rate\")\n",
    "plt.xlabel(\"K\")\n",
    "plt.ylabel(\"Error Rate\")"
   ]
  },
  {
   "cell_type": "code",
   "execution_count": 123,
   "id": "19b0aa67",
   "metadata": {},
   "outputs": [
    {
     "name": "stdout",
     "output_type": "stream",
     "text": [
      "              precision    recall  f1-score   support\n",
      "\n",
      "           0       0.58      0.05      0.10       133\n",
      "           1       0.55      0.97      0.70       157\n",
      "\n",
      "    accuracy                           0.55       290\n",
      "   macro avg       0.57      0.51      0.40       290\n",
      "weighted avg       0.56      0.55      0.42       290\n",
      "\n",
      "[[  7 126]\n",
      " [  5 152]]\n"
     ]
    }
   ],
   "source": [
    "# KNN1 Adjusted with K = 80\n",
    "knn = KNeighborsClassifier(n_neighbors = 80)\n",
    "knn.fit(X_train,y_train)\n",
    "p1 = knn.predict(X_test)\n",
    "print(classification_report(y_test,p1))\n",
    "print(confusion_matrix(y_test,p1))"
   ]
  },
  {
   "cell_type": "code",
   "execution_count": 124,
   "id": "75bc0835",
   "metadata": {},
   "outputs": [
    {
     "name": "stdout",
     "output_type": "stream",
     "text": [
      "[[62 73]\n",
      " [77 78]]\n",
      "              precision    recall  f1-score   support\n",
      "\n",
      "           0       0.45      0.46      0.45       135\n",
      "           1       0.52      0.50      0.51       155\n",
      "\n",
      "    accuracy                           0.48       290\n",
      "   macro avg       0.48      0.48      0.48       290\n",
      "weighted avg       0.48      0.48      0.48       290\n",
      "\n"
     ]
    }
   ],
   "source": [
    "# DECISION TREE 1: DT1\n",
    "#DECISION TREE IMPORTS\n",
    "from sklearn.tree import DecisionTreeClassifier\n",
    "#RANDOM FOREST IMPORTS\n",
    "from sklearn.ensemble import RandomForestClassifier\n",
    "X = df.drop(\"1_up_0_down\",axis = 1).values\n",
    "y = df[\"1_up_0_down\"].values\n",
    "X_train, X_test, y_train, y_test = train_test_split(X, y, test_size=0.25)\n",
    "scaler = MinMaxScaler()\n",
    "X_train = scaler.fit_transform(X_train)\n",
    "X_test = scaler.transform(X_test)\n",
    "dtree = DecisionTreeClassifier()\n",
    "dtree.fit(X_train,y_train)\n",
    "p1 = dtree.predict(X_test)\n",
    "print(confusion_matrix(y_test,p1))\n",
    "print(classification_report(y_test,p1))"
   ]
  },
  {
   "cell_type": "code",
   "execution_count": 125,
   "id": "1c222d8a",
   "metadata": {},
   "outputs": [
    {
     "name": "stdout",
     "output_type": "stream",
     "text": [
      "[[ 28 107]\n",
      " [ 41 114]]\n",
      "              precision    recall  f1-score   support\n",
      "\n",
      "           0       0.41      0.21      0.27       135\n",
      "           1       0.52      0.74      0.61       155\n",
      "\n",
      "    accuracy                           0.49       290\n",
      "   macro avg       0.46      0.47      0.44       290\n",
      "weighted avg       0.46      0.49      0.45       290\n",
      "\n"
     ]
    }
   ],
   "source": [
    "# RANDOM FOREST 1: RF1\n",
    "rf = RandomForestClassifier(n_estimators = 1000)\n",
    "rf.fit(X_train,y_train)\n",
    "p2 = rf.predict(X_test)\n",
    "print(confusion_matrix(y_test,p2))\n",
    "print(classification_report(y_test,p2))"
   ]
  },
  {
   "cell_type": "code",
   "execution_count": null,
   "id": "ba2b797e",
   "metadata": {},
   "outputs": [],
   "source": []
  }
 ],
 "metadata": {
  "kernelspec": {
   "display_name": "Python 3 (ipykernel)",
   "language": "python",
   "name": "python3"
  },
  "language_info": {
   "codemirror_mode": {
    "name": "ipython",
    "version": 3
   },
   "file_extension": ".py",
   "mimetype": "text/x-python",
   "name": "python",
   "nbconvert_exporter": "python",
   "pygments_lexer": "ipython3",
   "version": "3.9.7"
  }
 },
 "nbformat": 4,
 "nbformat_minor": 5
}
